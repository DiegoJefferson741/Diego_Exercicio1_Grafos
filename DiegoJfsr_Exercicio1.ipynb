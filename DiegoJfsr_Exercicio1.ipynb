{
  "nbformat": 4,
  "nbformat_minor": 0,
  "metadata": {
    "colab": {
      "provenance": []
    },
    "kernelspec": {
      "name": "python3",
      "display_name": "Python 3"
    },
    "language_info": {
      "name": "python"
    },
    "accelerator": "GPU",
    "gpuClass": "standard"
  },
  "cells": [
    {
      "cell_type": "code",
      "source": [
        "### --------------------------------------------------------------------------------------"
      ],
      "metadata": {
        "id": "BBLx85CmF7Wu"
      },
      "execution_count": null,
      "outputs": []
    },
    {
      "cell_type": "code",
      "source": [
        "### Codigo 1"
      ],
      "metadata": {
        "id": "S0-R1LdmC4K8"
      },
      "execution_count": null,
      "outputs": []
    },
    {
      "cell_type": "code",
      "source": [
        "### --------------------------------------------------------------------------------------"
      ],
      "metadata": {
        "id": "tP5HzWjcF8AU"
      },
      "execution_count": null,
      "outputs": []
    },
    {
      "cell_type": "code",
      "source": [
        "import matrixInc\n",
        "\n",
        "def creatematrix2():\n",
        "    matrix = []\n",
        "    matrix.append([\"#\",\"#\", \"#\", \"#\", \"#\", \"#\", \"#\", \"#\"])\n",
        "    matrix.append([\"#\",\" \", \" \", \" \", \" \", \" \", \" \", \"#\"])\n",
        "    matrix.append([\"#\",\" \", \" \", \" \", \" \", \" \", \" \", \"#\"])\n",
        "    matrix.append([\"#\",\"#\", \"#\", \"#\", \" \", \" \", \" \", \"#\"])\n",
        "    matrix.append([\"#\",\" \", \" \", \" \", \" \", \" \", \" \", \"#\"])\n",
        "    matrix.append([\"#\",\" \", \" \", \" \", \"#\", \" \", \" \", \"#\"])\n",
        "    matrix.append([\"#\",\" \", \" \", \" \", \"#\", \" \", \" \", \"#\"])\n",
        "    matrix.append([\"#\",\"#\", \"#\", \"#\", \"#\", \"#\", \"#\", \"#\"])\n",
        "\n",
        "    return matrix\n",
        "\n"
      ],
      "metadata": {
        "id": "IDlFkLBY7gr7"
      },
      "execution_count": null,
      "outputs": []
    },
    {
      "cell_type": "code",
      "source": [
        "\n",
        "def printmatrix(matrix, path=\"\"):\n",
        "    for x, pos in enumerate(matrix[0]):\n",
        "        if pos == \"O\":\n",
        "            start = x\n",
        "\n",
        "    i = start\n",
        "    j = 0\n",
        "    pos = set()\n",
        "    for move in path:\n",
        "        if move == \"L\":\n",
        "            i -= 1\n",
        "\n",
        "        elif move == \"R\":\n",
        "            i += 1\n",
        "\n",
        "        elif move == \"U\":\n",
        "            j -= 1\n",
        "\n",
        "        elif move == \"D\":\n",
        "            j += 1\n",
        "        pos.add((j, i))\n",
        "    \n",
        "    for j, row in enumerate(matrix):\n",
        "        for i, col in enumerate(row):\n",
        "            if (j, i) in pos:\n",
        "                print(\"+ \", end=\"\")\n",
        "            else:\n",
        "                print(col + \" \", end=\"\")\n",
        "        print()\n",
        "        \n"
      ],
      "metadata": {
        "id": "eo_i4MWa7gp9"
      },
      "execution_count": 52,
      "outputs": []
    },
    {
      "cell_type": "code",
      "source": [
        "\n",
        "def valid(matrix, moves):\n",
        "    for x, pos in enumerate(matrix[0]):\n",
        "        if pos == \"O\":\n",
        "            start = x\n",
        "\n",
        "    i = start\n",
        "    j = 0\n",
        "    for move in moves:\n",
        "        if move == \"L\":\n",
        "            i -= 1\n",
        "\n",
        "        elif move == \"R\":\n",
        "            i += 1\n",
        "\n",
        "        elif move == \"U\":\n",
        "            j -= 1\n",
        "\n",
        "        elif move == \"D\":\n",
        "            j += 1\n",
        "\n",
        "        if not(0 <= i < len(matrix[0]) and 0 <= j < len(matrix)):\n",
        "            return False\n",
        "        elif (matrix[j][i] == \"#\"):\n",
        "            return False\n",
        "\n",
        "    return True\n",
        "\n"
      ],
      "metadata": {
        "id": "AuNP7Ya27gnb"
      },
      "execution_count": 53,
      "outputs": []
    },
    {
      "cell_type": "code",
      "source": [
        "\n",
        "def findEnd(matrix, moves):\n",
        "    for x, pos in enumerate(matrix[0]):\n",
        "        if pos == \"O\":\n",
        "            start = x\n",
        "\n",
        "    i = start\n",
        "    j = 0\n",
        "    for move in moves:\n",
        "        if move == \"L\":\n",
        "            i -= 1\n",
        "\n",
        "        elif move == \"R\":\n",
        "            i += 1\n",
        "\n",
        "        elif move == \"U\":\n",
        "            j -= 1\n",
        "\n",
        "        elif move == \"D\":\n",
        "            j += 1\n",
        "\n",
        "    if matrix[j][i] == \"X\":\n",
        "        print(\"Found: \" + moves)\n",
        "        printmatrix(matrix, moves)\n",
        "        return True\n",
        "\n",
        "    return False\n",
        "\n"
      ],
      "metadata": {
        "id": "4q-0La3O7gkz"
      },
      "execution_count": 54,
      "outputs": []
    },
    {
      "cell_type": "code",
      "source": [
        "\n",
        "matrixInc\n",
        "\n",
        "nums = matrixInc.MatrixInc()\n",
        "nums.put(\"\")\n",
        "add = \"\"\n",
        "matrix  = creatematrix2()\n",
        "\n",
        "while not findEnd(matrix, add): \n",
        "    add = nums.get()\n",
        "\n",
        "\n",
        "    for j in [\"L\", \"R\", \"U\", \"D\"]:\n",
        "        put = add + j\n",
        "        if valid(matrix, put):\n",
        "            nums.put(put)"
      ],
      "metadata": {
        "id": "23k6PTtb7gab"
      },
      "execution_count": null,
      "outputs": []
    },
    {
      "cell_type": "code",
      "source": [
        "### --------------------------------------------------------------------------------------"
      ],
      "metadata": {
        "id": "ecXjPC9FF1yW"
      },
      "execution_count": null,
      "outputs": []
    },
    {
      "cell_type": "code",
      "source": [
        "##### Codigo 2"
      ],
      "metadata": {
        "id": "-2IrgVBvyhnB"
      },
      "execution_count": 39,
      "outputs": []
    },
    {
      "cell_type": "code",
      "source": [
        "### --------------------------------------------------------------------------------------"
      ],
      "metadata": {
        "id": "wU43gEN0F5at"
      },
      "execution_count": null,
      "outputs": []
    },
    {
      "cell_type": "code",
      "source": [
        "import numpy as np\n",
        "import time"
      ],
      "metadata": {
        "id": "NNBKxhgAEQ9t"
      },
      "execution_count": 66,
      "outputs": []
    },
    {
      "cell_type": "code",
      "source": [
        "\n",
        "class Grafo:\n",
        "\n",
        "    def __init__(self, n):\n",
        "        self.matriz_adj = np.zeros((n, n), dtype=\"int\")\n",
        "        self.n_vertices = n\n",
        "\n",
        "    def imprimir(self):        \n",
        "        print(self.matriz_adj)\n",
        "\n",
        "    def inserir_vertice(self, origem, destino, direcao = 0):\n",
        "        if (direcao == 0): \n",
        "            self.matriz_adj[origem, destino] = 1\n",
        "            self.matriz_adj[destino, origem] = 1\n",
        "        else:\n",
        "            self.matriz_adj[origem, destino] = 1\n",
        "\n",
        "    def retorna_vizinhos(self, v):\n",
        "        vizinhos = []\n",
        "        origem = 0\n",
        "        while origem < self.n_vertices:\n",
        "            if self.matriz_adj[origem][v] == 1:\n",
        "                vizinhos.append(origem)\n",
        "            origem += 1\n",
        "        \n",
        "        return vizinhos\n",
        "\n",
        "    def conta_componentes(self):\n",
        "        n_componentes = 0\n",
        "        visitados = np.zeros(self.n_vertices, dtype=\"int\")\n",
        "        for v in range(self.n_vertices):\n",
        "            for w in range(self.n_vertices):\n",
        "                if self.matriz_adj[v][w] == 1:\n",
        "                    if visitados[w] == 0:\n",
        "                        n_componentes += 1\n",
        "                        self.busca_profundidade(w, visitados)\n",
        "        \n",
        "        return n_componentes\n",
        "                \n",
        "    def busca_profundidade_grafo(self, v_inicial):\n",
        "        visitados = np.zeros(self.n_vertices, dtype=\"int\")\n",
        "        print(visitados)\n",
        "        self.busca_profundidade(v_inicial, visitados)\n",
        "\n",
        "    def busca_profundidade(self, v_inicial, visitados):\n",
        "        visitados[v_inicial] = -1 #Marca como visitado\n",
        "        for w in range(self.n_vertices):\n",
        "            valor = self.matriz_adj[v_inicial][w] \n",
        "            if (valor == 1): #Verifica se os vértices são vizinhos\n",
        "                if visitados[w] == 0: #Não visitado\n",
        "                    print(\"v{}->w{}\".format(v_inicial, w))\n",
        "                    self.busca_profundidade(w, visitados)\n",
        "\n",
        "    def verifica_caminho(self, origem, destino):\n",
        "        linhaori  = origem[0]\n",
        "        colunaori = origem[1]\n",
        "\n",
        "        linhadest  = destino[0]\n",
        "        colunadest = destino[1]\n",
        "\n",
        "        mapa = self.matriz_adj\n",
        "\n",
        "        if linhaori == linhadest and \\\n",
        "                colunaori == colunadest:\n",
        "            mapa[linhaori][colunaori] = 1\n",
        "            return True\n",
        "        \n",
        "        print(np.array(mapa))\n",
        "        print()\n",
        "        #tam_lin, tam_col = mapa.shape        \n",
        "        tam_lin = len(mapa)\n",
        "        tam_col = len(mapa[0])\n",
        "        #time.sleep(1)\n",
        "        \n",
        "        if (mapa[linhaori][colunaori] == -1):\n",
        "            #Marca na posição do mapa como visitado\n",
        "            mapa[linhaori][colunaori] = 1\n",
        "            \n",
        "            if (self.verifica_caminho( (linhaori, max(0, colunaori-1) ), destino)):\n",
        "                return True\n",
        "            \n",
        "            if (self.verifica_caminho( (max(0, linhaori-1), colunaori), destino) ):\n",
        "                return True\n",
        "\n",
        "            if (self.verifica_caminho( (linhaori, min(tam_col, colunaori+1) ), destino) ):\n",
        "                return True\n",
        "\n",
        "            if (self.verifica_caminho( ( min(tam_lin, linhaori+1), colunaori), destino)):\n",
        "                return True           \n",
        "            "
      ],
      "metadata": {
        "id": "wDujQyMTEKsF"
      },
      "execution_count": 67,
      "outputs": []
    },
    {
      "cell_type": "code",
      "source": [
        "if __name__ == \"__main__\":\n",
        "    grafo = Grafo(n=6)\n",
        "\n",
        "    grafo.matriz_adj = [[0, 0, 0, 0, 0, 0, 0, 0], \n",
        "                        [0,-1,-1,-1,-1,-1,-1, 0],\n",
        "                        [0,-1,-1,-1,-1,-1,-1, 0],\n",
        "                        [0, 0, 0, 0,-1,-1,-1, 0],\n",
        "                        [0,-1,-1,-1, 0,-1,-1, 0],\n",
        "                        [0,-1,-1,-1, 0,-1,-1, 0],\n",
        "                        [0,-1,-1,-1, 0,-1,-1, 0],\n",
        "                        [0, 0, 0, 0, 0, 0, 0, 0]    \n",
        "                    ]\n",
        "    grafo.verifica_caminho( (6,2) , (6,6) )"
      ],
      "metadata": {
        "id": "iitW8GrHEeYM"
      },
      "execution_count": null,
      "outputs": []
    },
    {
      "cell_type": "code",
      "source": [
        "### --------------------------------------------------------------------------------------"
      ],
      "metadata": {
        "id": "TPU9tmKEE_KO"
      },
      "execution_count": null,
      "outputs": []
    },
    {
      "cell_type": "code",
      "source": [
        "### Codigo 3"
      ],
      "metadata": {
        "id": "4nYas50FE_CF"
      },
      "execution_count": null,
      "outputs": []
    },
    {
      "cell_type": "code",
      "source": [
        "### --------------------------------------------------------------------------------------"
      ],
      "metadata": {
        "id": "cM1WAmWjE-7d"
      },
      "execution_count": null,
      "outputs": []
    },
    {
      "cell_type": "code",
      "source": [],
      "metadata": {
        "id": "9X_46EtbF-5N"
      },
      "execution_count": null,
      "outputs": []
    },
    {
      "cell_type": "code",
      "source": [
        "if __name__ == \"__main__\":\n",
        "    grafo = Grafo(n=6)\n",
        "\n",
        "    grafo.matriz_adj = [[0, 0, 0, 0, 0, 0, 0, 0], \n",
        "                        [0,-1,-1,-1, 0,-1,-1, 0],\n",
        "                        [0,-1,-1,-1, 0,-1,-1, 0],\n",
        "                        [0, 0, 0, 0, 0,-1,-1, 0],\n",
        "                        [0,-1,-1,-1, 0,-1,-1, 0],\n",
        "                        [0,-1,-1,-1, 0,-1,-1, 0],\n",
        "                        [0,-1,-1,-1, 0,-1,-1, 0],\n",
        "                        [0, 0, 0, 0, 0, 0, 0, 0]    \n",
        "                    ]\n",
        "    grafo.verifica_caminho( (6,2) , (6,6) )"
      ],
      "metadata": {
        "id": "eVVlZohtF_gk"
      },
      "execution_count": null,
      "outputs": []
    },
    {
      "cell_type": "code",
      "source": [],
      "metadata": {
        "id": "MbX9QCZAF_Zl"
      },
      "execution_count": null,
      "outputs": []
    },
    {
      "cell_type": "markdown",
      "source": [],
      "metadata": {
        "id": "QQzTdjE90wwB"
      }
    }
  ]
}